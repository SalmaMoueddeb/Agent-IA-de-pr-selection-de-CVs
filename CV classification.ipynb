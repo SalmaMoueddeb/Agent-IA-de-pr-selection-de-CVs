{
 "cells": [
  {
   "cell_type": "markdown",
   "id": "8da17431",
   "metadata": {},
   "source": [
    "# Assistant IA de préselection de CV "
   ]
  },
  {
   "cell_type": "code",
   "execution_count": 1,
   "id": "7730d462",
   "metadata": {},
   "outputs": [],
   "source": [
    "import os\n",
    "import spacy\n",
    "import random\n",
    "import numpy as np\n",
    "import pandas as pd\n",
    "import seaborn as sns\n",
    "from tqdm import tqdm\n",
    "import matplotlib.pyplot as plt\n",
    "from spacy.tokens import DocBin\n",
    "from datasets import load_dataset\n",
    "from sklearn.utils import resample\n",
    "from spacy.training import Example\n",
    "from spacy.util import minibatch, compounding\n",
    "from sklearn.model_selection import train_test_split\n",
    "from sklearn.utils.class_weight import compute_class_weight\n",
    "from sklearn.metrics import accuracy_score, classification_report, confusion_matrix, f1_score\n",
    "from lime.lime_text import LimeTextExplainer"
   ]
  },
  {
   "cell_type": "code",
   "execution_count": 2,
   "id": "8e8cb7bf",
   "metadata": {},
   "outputs": [],
   "source": [
    "dataset = load_dataset(\"cnamuangtoun/resume-job-description-fit\")"
   ]
  },
  {
   "cell_type": "code",
   "execution_count": 3,
   "id": "91c2299f",
   "metadata": {},
   "outputs": [
    {
     "data": {
      "text/html": [
       "<div>\n",
       "<style scoped>\n",
       "    .dataframe tbody tr th:only-of-type {\n",
       "        vertical-align: middle;\n",
       "    }\n",
       "\n",
       "    .dataframe tbody tr th {\n",
       "        vertical-align: top;\n",
       "    }\n",
       "\n",
       "    .dataframe thead th {\n",
       "        text-align: right;\n",
       "    }\n",
       "</style>\n",
       "<table border=\"1\" class=\"dataframe\">\n",
       "  <thead>\n",
       "    <tr style=\"text-align: right;\">\n",
       "      <th></th>\n",
       "      <th>resume_text</th>\n",
       "      <th>job_description_text</th>\n",
       "      <th>label</th>\n",
       "    </tr>\n",
       "  </thead>\n",
       "  <tbody>\n",
       "    <tr>\n",
       "      <th>0</th>\n",
       "      <td>SummaryHighly motivated Sales Associate with e...</td>\n",
       "      <td>Net2Source Inc. is an award-winning total work...</td>\n",
       "      <td>No Fit</td>\n",
       "    </tr>\n",
       "    <tr>\n",
       "      <th>1</th>\n",
       "      <td>Professional SummaryCurrently working with Cat...</td>\n",
       "      <td>At Salas OBrien we tell our clients that were ...</td>\n",
       "      <td>No Fit</td>\n",
       "    </tr>\n",
       "    <tr>\n",
       "      <th>2</th>\n",
       "      <td>SummaryI started my construction career in Jun...</td>\n",
       "      <td>Schweitzer Engineering Laboratories (SEL) Infr...</td>\n",
       "      <td>No Fit</td>\n",
       "    </tr>\n",
       "    <tr>\n",
       "      <th>3</th>\n",
       "      <td>SummaryCertified Electrical Foremanwith thirte...</td>\n",
       "      <td>Mizick Miller &amp; Company, Inc. is looking for a...</td>\n",
       "      <td>No Fit</td>\n",
       "    </tr>\n",
       "    <tr>\n",
       "      <th>4</th>\n",
       "      <td>SummaryWith extensive experience in business/r...</td>\n",
       "      <td>Life at Capgemini\\nCapgemini supports all aspe...</td>\n",
       "      <td>No Fit</td>\n",
       "    </tr>\n",
       "  </tbody>\n",
       "</table>\n",
       "</div>"
      ],
      "text/plain": [
       "                                         resume_text  \\\n",
       "0  SummaryHighly motivated Sales Associate with e...   \n",
       "1  Professional SummaryCurrently working with Cat...   \n",
       "2  SummaryI started my construction career in Jun...   \n",
       "3  SummaryCertified Electrical Foremanwith thirte...   \n",
       "4  SummaryWith extensive experience in business/r...   \n",
       "\n",
       "                                job_description_text   label  \n",
       "0  Net2Source Inc. is an award-winning total work...  No Fit  \n",
       "1  At Salas OBrien we tell our clients that were ...  No Fit  \n",
       "2  Schweitzer Engineering Laboratories (SEL) Infr...  No Fit  \n",
       "3  Mizick Miller & Company, Inc. is looking for a...  No Fit  \n",
       "4  Life at Capgemini\\nCapgemini supports all aspe...  No Fit  "
      ]
     },
     "execution_count": 3,
     "metadata": {},
     "output_type": "execute_result"
    }
   ],
   "source": [
    "df=pd.DataFrame(dataset[\"train\"])\n",
    "df.head()"
   ]
  },
  {
   "cell_type": "code",
   "execution_count": 4,
   "id": "258950a7",
   "metadata": {},
   "outputs": [
    {
     "data": {
      "text/html": [
       "<div>\n",
       "<style scoped>\n",
       "    .dataframe tbody tr th:only-of-type {\n",
       "        vertical-align: middle;\n",
       "    }\n",
       "\n",
       "    .dataframe tbody tr th {\n",
       "        vertical-align: top;\n",
       "    }\n",
       "\n",
       "    .dataframe thead th {\n",
       "        text-align: right;\n",
       "    }\n",
       "</style>\n",
       "<table border=\"1\" class=\"dataframe\">\n",
       "  <thead>\n",
       "    <tr style=\"text-align: right;\">\n",
       "      <th></th>\n",
       "      <th>resume_text</th>\n",
       "      <th>job_description_text</th>\n",
       "      <th>label</th>\n",
       "    </tr>\n",
       "  </thead>\n",
       "  <tbody>\n",
       "    <tr>\n",
       "      <th>0</th>\n",
       "      <td>Summary7+ years of experience as a BI develope...</td>\n",
       "      <td>Key Responsibilities:Create intricate wiring n...</td>\n",
       "      <td>No Fit</td>\n",
       "    </tr>\n",
       "    <tr>\n",
       "      <th>1</th>\n",
       "      <td>Professional BackgroundAnalyst versed in data ...</td>\n",
       "      <td>Personal development and becoming the best you...</td>\n",
       "      <td>No Fit</td>\n",
       "    </tr>\n",
       "    <tr>\n",
       "      <th>2</th>\n",
       "      <td>Executive ProfileDedicated professional with t...</td>\n",
       "      <td>Location: Tampa, FL\\nExp: 7-10 Yrs\\nSPOC: Tush...</td>\n",
       "      <td>No Fit</td>\n",
       "    </tr>\n",
       "    <tr>\n",
       "      <th>3</th>\n",
       "      <td>Summarytyee\\nHighlightsMicrosoft Excel, Word, ...</td>\n",
       "      <td>Primary Location: Melbourne, Florida\\nV-Soft C...</td>\n",
       "      <td>No Fit</td>\n",
       "    </tr>\n",
       "    <tr>\n",
       "      <th>4</th>\n",
       "      <td>SummaryEIT certified Engineer and ASTQB Certif...</td>\n",
       "      <td>At Oregon Specialty Group the Accounting &amp; Pay...</td>\n",
       "      <td>No Fit</td>\n",
       "    </tr>\n",
       "  </tbody>\n",
       "</table>\n",
       "</div>"
      ],
      "text/plain": [
       "                                         resume_text  \\\n",
       "0  Summary7+ years of experience as a BI develope...   \n",
       "1  Professional BackgroundAnalyst versed in data ...   \n",
       "2  Executive ProfileDedicated professional with t...   \n",
       "3  Summarytyee\\nHighlightsMicrosoft Excel, Word, ...   \n",
       "4  SummaryEIT certified Engineer and ASTQB Certif...   \n",
       "\n",
       "                                job_description_text   label  \n",
       "0  Key Responsibilities:Create intricate wiring n...  No Fit  \n",
       "1  Personal development and becoming the best you...  No Fit  \n",
       "2  Location: Tampa, FL\\nExp: 7-10 Yrs\\nSPOC: Tush...  No Fit  \n",
       "3  Primary Location: Melbourne, Florida\\nV-Soft C...  No Fit  \n",
       "4  At Oregon Specialty Group the Accounting & Pay...  No Fit  "
      ]
     },
     "execution_count": 4,
     "metadata": {},
     "output_type": "execute_result"
    }
   ],
   "source": [
    "dt=pd.DataFrame(dataset[\"test\"])\n",
    "dt.head()"
   ]
  },
  {
   "cell_type": "code",
   "execution_count": 5,
   "id": "8f0fc236",
   "metadata": {},
   "outputs": [
    {
     "data": {
      "text/plain": [
       "\"SummaryHighly motivated Sales Associate with extensive customer service and sales experience. Outgoing sales professional with track record of driving increased sales, improving buying experience and elevating company profile with target market.\\nHighlights-Soft Skills: Public Speaking, Public Relations, Team Building, Project Management, Procedure writing, Staff Supervision and Management, Ability to interface with professionals on all levels. Accomplishments, Honors, and Activities -Board of Directors Member for the Food Bank of Corpus Christi from November 2010 to April 2013. -Held Life Insurance License -Basketball Official (Referee) High School Varsity Level.\\nExperienceAccountant,08/2014-05/2015Aspirus–Owen,WI,Perform daily and routine accounting functions for two main companies and five small royalty companies. Responsibilities include but are not limited to the following: Accounts Payable, Accounts Receivable, Manage and reconcile funds for multiple banks accounts, Payroll, Perform detail audits and adjustments of Balance sheet and Income Statement accounts, Audit and pay monthly Sales Tax, Inventory Reconciliations, and Budgeting.District Administrative Manager,02/2014-06/2014Tradeweb Markets Inc.–New York,NY,Managed and assisted the Accounts Receivable, Accounts Payable, and HR/Payroll staff for our district, with daily entrees, follow-up, and reporting as needed. Prepared and presented daily reports to various departments for more accurate management of the financial areas of their operations, such as inventory, Purchase Orders, and Bill of Lading. Performed accounting functions in On-Base, AX, Avantis, and Microsoft Office software.Business Manager,01/2005-02/2014Leidos–Clinton,MS,Managed the operations for a $1.2 million dollar partnership. Duties included planning, overseeing and directing accounting, logistics, and production functions, direct sales and customer service. Accounting functions:Managed over $500K of Fixed Assets, and inventories also valued over $500K.Administered Government contracts for USDA Food Aid with gross revenue up to $1.5 million annually (net income $500K).Upgraded company's software to integrate bill of assembly to interface with accounting software.Performed month end reconciliations, audits, closings, and financial statement reporting.Performed regular physical inventory audits.Supervised bookkeeper all aspects of the accounting cycle including Payroll, AR, and AP. Operations functions:Oversaw and directed the warehouse supervisor, warehouse maintenance supervisor and up to 20 employees to assure optimum production of personnel and facility.Communicated with logistics suppliers such as the Railroads and various trucking companies, governmental agencies (such as the USDA), customers and vendors to assure on time receiving, production, and shipping of goods.Created, implemented and managed our company's Food Safety and Quality Assurance Programs, including a fifty page Food Safety Guide. 2383 Suwanee Pointe DriveLawrenceville, GA 30043(555) 432-1000resumesample@example.comStaffing Manager,01/2003-01/2004Advantage Solutions–Chesapeake,VA,Provided personnel solutions to various organizations for their Accounting and Administrative needs. Interviewed and advised employees in various aspects of their professional career process. Earned sales bonuses within my first three months with the company.Accounting Manager,01/2002-01/2002Kroger–Westerville,OH,Assisted Controller in various aspects of the accounting cycle. Supervised new member billing clerk and cash receipts clerk. Helped with computer and networking issues in a Windows NT/XP environment. Implemented changes and procedures through two software upgrades in CSI software. Trained various staff in effective use of MS Excel. Audited Corporate-billing accounts.General Merchandise Department Manager,01/2000-01/2002Cargas Systems Inc–Lancaster,PA,Supervised and trained employees for strategic ordering and merchandising product for optimal sales, and in standard operating procedures. Created weekly schedule and departmental reports. Prepared for physical inventory every 6 months.Accounting Software Consultant,01/1998-01/2000Aspirus–Prentice,WI,Consulted users of DacEasy accounting applications in Software training, troubleshooting, setting up their entire automated accounting system, and establishing accounting procedures for their business. Trained other departments in proper accounting procedures, worked closely with CPA's for all tax related issues and coordinated payroll processing with an automated payroll system.Accountant,01/1999-01/2000CentreCom, Incorporated–City,STATE,Full Charge Bookkeeper/Accountant for a start-up Internet Telephone Company. Entered daily GL transactions. Supervised the Accounts Payable clerk. Worked with the Assistant Controller to establish and manage the Accounting functions related to all Sales aspects of the business. Assisted with month end reconciliations. Reconciled cash balance reports for five bank accounts on a daily basis and assisted in the managing of these accounts. Other duties included writing Accounting procedures for Accounts Payable and Cash Management.\\nEducationMaster of Arts:Christian Education,Expected in-Dallas Theological Seminary-Dallas,TXGPA:Status-Master of Arts in Christian Education - Dallas Theological Seminary, Dallas, TXBachelor of Arts:Economics,Expected in-Marshall University-Huntington,WVGPA:Status-Bachelor of Arts in Economics - Marshall University, Huntington, WVAssociates of Applied Science:Accounting,Expected in-Hocking Technical College-Nelsonville,OHGPA:Status-Associates of Applied Science in Accounting - Hocking Technical College, Nelsonville, OH Maintained a 4.0 GPA while completing 12 hours of upper level accounting courses.\\nSkillsAccounting, Sales, Inventory, Payroll, The Accounting, Reconciliations, Bookkeeper, Audits, Operations, Ap, Ar, Assembly, Closings, Contracts, Customer Service, Direct Sales, Fixed Assets, Food Safety, Government Contracts, Logistics, Maintenance, Million, Quality Assurance, Receptionist, Retail Sales, Sales And, Shipping, Usda, Accounts Payable, Solutions, Staffing, Cash, Clerk, Merchandising, Ordering, Automated Payroll, Payroll Processing, Software Training, Training, Accountant, The Accounts, Accounts Receivable, Credit, Billing, Csi, Excel, Ms Excel, Networking, All Sales, Basis, Cash Management, Forecasting, Gl, Telephone, Adjustments, Audit, Balance Sheet, Budgeting, Monthly Sales, Sales Tax, Annuities, Cpa, Life Insurance, Procedure Writing, Project Management, Public Relations, Team Building, Administrative Manager, Entrees, Entrées, Hr, Microsoft Office, Ms Office, Purchase Orders\""
      ]
     },
     "execution_count": 5,
     "metadata": {},
     "output_type": "execute_result"
    }
   ],
   "source": [
    "df['resume_text'][0]"
   ]
  },
  {
   "cell_type": "code",
   "execution_count": 6,
   "id": "8feedf5f",
   "metadata": {},
   "outputs": [
    {
     "data": {
      "text/plain": [
       "\"Net2Source Inc. is an award-winning total workforce solutions company recognized by Staffing Industry Analysts for our accelerated growth of 300% in the last 3 years with over 5500+ employees globally, with over 30+ locations in the US and global operations in 32 countries. We believe in providing staffing solutions to address the current talent gap  Right Talent  Right Time  Right Place  Right Price and acting as a Career Coach to our consultants.  \\nRole: Basel Business AnalystLocation: Washington, D.C.Work Mode: HybridHire Type: 6+ Month Contract (extendable)\\nJD: Role Specific Experience: 6+ years of relevant technical and business work experience The Candidates who have worked on Basel related projects in Credit risks or at least are aware of credit risk.  Banking & Financial domain experience, along with knowledge of risk management, familiarity with concepts of finance and accounting  Proficiency in MS Excel  Experience in defining and implementing technology solutions for a major financial institution  Extensive experience as a Business Analyst for a large financial institution  Extensive experience in gathering business requirements and developing functional specifications with special emphasis on use cases, defining test cases, and providing user training and support Extensive experience with various system development lifecycle methodologies and tailoring the artifacts to those methodologies Solution-oriented, detailed-focused, showing strong analytical and organization skills Familiarity with relational databases  RDMS Experience with writing simple SQL statements (mostly SELECT  with aim to analyze datasets)\\n\\n\\nRegards,Prashant SinghSr. Account Manager - Enterprise BusinessNet2Source Inc.prashant.singh@net2source.comDirect # (201) 285-5087  Board # (201) 340-8700 Ext. 509  Fax: (201) 221-8131Corp. HQs : 317 George St., Suite 220, New Brunswick, NJ 08901LinkedIn: https:www.linkedin.cominprashant-singh-b1b23526Website: www.net2source.com\\nWhy work with us - At Net2Source, we believe everyone has an opportunity to lead. We see the importance of your perspective and your ability to create value. We want you to fit inwith an inclusive culture, focus on work-life fit and well-being, and a supportive, connected environment; but we also want you to stand outwith opportunities to have a strategic impact, innovate, and take necessary steps to make your mark. We help clients with new skilling, talent strategy, leadership development, employee experience, transformational change management and beyond.\\nEqual Employment Opportunity Statement:Net2Source is an Equal Opportunity Employer. We believe that no one should be discriminated against because of their differences, such as age, disability, ethnicity, gender, gender identity and expression, religion or sexual orientation. Our rich diversity makes us more innovative, more competitive, and more creative, which helps us better serve our clients and our communities. All employment decisions shall be made without regard to age, race, creed, color, religion, sex, national origin, ancestry, disability status, veteran status, sexual orientation, gender identity or expression, genetic information, marital status, citizenship status or any other basis as protected by federal, state, or local law.\\nAwards and Accolades: America's Most Honored Businesses (Top 10%)Awarded by USPAAC for Fastest Growing Business in the US12th Fastest Growing Staffing Company in USA by Staffing industry Analysts in the US (2020, 2019, 2020)Fastest 50 by NJ Biz (2020, 2019, 2020)INC 5000 Fastest growing for 8 consecutive years in a row (only 1.26% companies make it to this list)Top 100 by Dallas Business Journal (2020 and 2019)Proven Supplier of the Year by Workforce Logiq (2020 and 2019)2019 Spirit of Alliance Award by Agile12018 Best of the Best Platinum Award by Agile12018 TechServe Alliance Excellence Awards Winner2017 Best of the Best Gold Award by Agile1(Act1 Group)\""
      ]
     },
     "execution_count": 6,
     "metadata": {},
     "output_type": "execute_result"
    }
   ],
   "source": [
    "df['job_description_text'][0]"
   ]
  },
  {
   "cell_type": "code",
   "execution_count": 7,
   "id": "e2d50acf",
   "metadata": {},
   "outputs": [
    {
     "name": "stdout",
     "output_type": "stream",
     "text": [
      "\n",
      "Missing Values:\n",
      "resume_text             0\n",
      "job_description_text    0\n",
      "label                   0\n",
      "dtype: int64\n",
      "\n",
      "Duplicates:\n",
      "1\n"
     ]
    }
   ],
   "source": [
    "print(\"\\nMissing Values:\")\n",
    "print(df.isnull().sum())\n",
    "print(\"\\nDuplicates:\")\n",
    "print(df.duplicated().sum())"
   ]
  },
  {
   "cell_type": "code",
   "execution_count": 8,
   "id": "9e6c8aaf",
   "metadata": {},
   "outputs": [],
   "source": [
    "df= df.drop_duplicates()"
   ]
  },
  {
   "cell_type": "code",
   "execution_count": 9,
   "id": "ff9e8b1c",
   "metadata": {},
   "outputs": [],
   "source": [
    "RANDOM_SEED = 42\n",
    "random.seed(RANDOM_SEED)\n",
    "np.random.seed(RANDOM_SEED)"
   ]
  },
  {
   "cell_type": "code",
   "execution_count": 10,
   "id": "6a7c5ba6",
   "metadata": {},
   "outputs": [
    {
     "data": {
      "text/plain": [
       "6240"
      ]
     },
     "execution_count": 10,
     "metadata": {},
     "output_type": "execute_result"
    }
   ],
   "source": [
    "len(df)"
   ]
  },
  {
   "cell_type": "code",
   "execution_count": 11,
   "id": "de26c47a",
   "metadata": {},
   "outputs": [
    {
     "data": {
      "text/plain": [
       "1759"
      ]
     },
     "execution_count": 11,
     "metadata": {},
     "output_type": "execute_result"
    }
   ],
   "source": [
    "len(dt)"
   ]
  },
  {
   "cell_type": "code",
   "execution_count": 12,
   "id": "10498d4f",
   "metadata": {},
   "outputs": [
    {
     "data": {
      "text/plain": [
       "label\n",
       "No Fit           3142\n",
       "Potential Fit    1556\n",
       "Good Fit         1542\n",
       "Name: count, dtype: int64"
      ]
     },
     "execution_count": 12,
     "metadata": {},
     "output_type": "execute_result"
    }
   ],
   "source": [
    "df['label'].value_counts()"
   ]
  },
  {
   "cell_type": "code",
   "execution_count": 13,
   "id": "cbfabc01",
   "metadata": {},
   "outputs": [],
   "source": [
    "df_no_fit_downsampled = resample(df[df['label'] == 'No Fit'], \n",
    "                                replace=False, \n",
    "                                n_samples=1550, \n",
    "                                random_state=42)\n",
    "df = pd.concat([\n",
    "    df_no_fit_downsampled,\n",
    "    df[df['label'] == 'Potential Fit'],\n",
    "    df[df['label'] == 'Good Fit']\n",
    "])"
   ]
  },
  {
   "cell_type": "code",
   "execution_count": 14,
   "id": "063a5337",
   "metadata": {},
   "outputs": [
    {
     "data": {
      "text/plain": [
       "label\n",
       "Potential Fit    1556\n",
       "No Fit           1550\n",
       "Good Fit         1542\n",
       "Name: count, dtype: int64"
      ]
     },
     "execution_count": 14,
     "metadata": {},
     "output_type": "execute_result"
    }
   ],
   "source": [
    "df['label'].value_counts()"
   ]
  },
  {
   "cell_type": "code",
   "execution_count": 15,
   "id": "f6711c4c",
   "metadata": {},
   "outputs": [],
   "source": [
    "dt['label'].value_counts()\n",
    "dt_no_fit_downsampled = resample(dt[dt['label'] == 'No Fit'], \n",
    "                                replace=False, \n",
    "                                n_samples=450, \n",
    "                                random_state=42)\n",
    "dt = pd.concat([\n",
    "    dt_no_fit_downsampled,\n",
    "    dt[dt['label'] == 'Potential Fit'],\n",
    "    dt[dt['label'] == 'Good Fit']\n",
    "])"
   ]
  },
  {
   "cell_type": "code",
   "execution_count": 16,
   "id": "9e90a204",
   "metadata": {},
   "outputs": [
    {
     "data": {
      "text/plain": [
       "label\n",
       "Good Fit         458\n",
       "No Fit           450\n",
       "Potential Fit    444\n",
       "Name: count, dtype: int64"
      ]
     },
     "execution_count": 16,
     "metadata": {},
     "output_type": "execute_result"
    }
   ],
   "source": [
    "dt['label'].value_counts()"
   ]
  },
  {
   "cell_type": "code",
   "execution_count": 17,
   "id": "f14b61f9",
   "metadata": {},
   "outputs": [
    {
     "name": "stdout",
     "output_type": "stream",
     "text": [
      "4648 1352\n"
     ]
    }
   ],
   "source": [
    "print(len(df), len(dt))"
   ]
  },
  {
   "cell_type": "code",
   "execution_count": 18,
   "id": "f63a5beb",
   "metadata": {},
   "outputs": [],
   "source": [
    "label_map = {\n",
    "        'Good Fit': 2,\n",
    "        'Potential Fit': 1,\n",
    "        'No Fit': 0\n",
    "    }\n",
    "df['label_num'] = df['label'].map(label_map)\n",
    "dt['label_num'] = dt['label'].map(label_map)"
   ]
  },
  {
   "cell_type": "code",
   "execution_count": 19,
   "id": "4e7f60f4",
   "metadata": {},
   "outputs": [
    {
     "name": "stdout",
     "output_type": "stream",
     "text": [
      "\n",
      "Class weights for handling imbalance:\n",
      "No Fit: 0.9995\n",
      "Potential Fit: 0.9954\n",
      "Good Fit: 1.0051\n"
     ]
    }
   ],
   "source": [
    "train_df, test_df = train_test_split(\n",
    "        df, test_size=0.2, random_state=RANDOM_SEED, stratify=df['label']\n",
    "    )\n",
    "class_weights = compute_class_weight(\n",
    "        class_weight='balanced',\n",
    "        classes=np.unique(train_df['label_num']),\n",
    "        y=train_df['label_num']\n",
    "    )\n",
    "class_weight_dict = {i: weight for i, weight in enumerate(class_weights)}\n",
    "print(\"\\nClass weights for handling imbalance:\")\n",
    "print(f\"No Fit: {class_weight_dict[0]:.4f}\")\n",
    "print(f\"Potential Fit: {class_weight_dict[1]:.4f}\")\n",
    "print(f\"Good Fit: {class_weight_dict[2]:.4f}\")"
   ]
  },
  {
   "cell_type": "code",
   "execution_count": 20,
   "id": "7c84b4be",
   "metadata": {},
   "outputs": [],
   "source": [
    "df['resume_job'] = df['resume_text'] + \" [SEP] \" + df['job_description_text']"
   ]
  },
  {
   "cell_type": "code",
   "execution_count": 21,
   "id": "d0080a55",
   "metadata": {},
   "outputs": [],
   "source": [
    "dt['resume_job'] = dt['resume_text'] + \" [SEP] \" + dt['job_description_text']"
   ]
  },
  {
   "cell_type": "code",
   "execution_count": 22,
   "id": "90663c0e",
   "metadata": {},
   "outputs": [
    {
     "name": "stdout",
     "output_type": "stream",
     "text": [
      "spaCy model 'en_core_web_sm' loaded successfully.\n"
     ]
    }
   ],
   "source": [
    "try:\n",
    "    nlp= spacy.load(\"en_core_web_sm\")\n",
    "    print(\"spaCy model 'en_core_web_sm' loaded successfully.\")\n",
    "except OSError:\n",
    "    print(\"spaCy model 'en_core_web_sm' not found\")\n",
    "    nlp = None "
   ]
  },
  {
   "cell_type": "code",
   "execution_count": 23,
   "id": "a53271ab",
   "metadata": {},
   "outputs": [],
   "source": [
    "def prepare_data(df,nlp):\n",
    "    doc_bin=DocBin()\n",
    "    for _, row in tqdm(df.iterrows(), total=len(df),desc=\"converting text to docs\"):\n",
    "        doc=nlp.make_doc(row['resume_job'])\n",
    "        if row['label_num'] == 0: \n",
    "            doc.cats = {'NO_FIT': 1.0, 'POTENTIAL_FIT': 0.0, 'GOOD_FIT': 0.0}\n",
    "        elif row['label_num'] == 1:  \n",
    "            doc.cats = {'NO_FIT': 0.0, 'POTENTIAL_FIT': 1.0, 'GOOD_FIT': 0.0}\n",
    "        else:  \n",
    "            doc.cats = {'NO_FIT': 0.0, 'POTENTIAL_FIT': 0.0, 'GOOD_FIT': 1.0}\n",
    "            \n",
    "        doc_bin.add(doc)\n",
    "    return doc_bin"
   ]
  },
  {
   "cell_type": "code",
   "execution_count": 24,
   "id": "2292d2ea",
   "metadata": {},
   "outputs": [
    {
     "name": "stderr",
     "output_type": "stream",
     "text": [
      "converting text to docs: 100%|██████████| 4648/4648 [00:26<00:00, 177.20it/s]\n",
      "converting text to docs: 100%|██████████| 1352/1352 [00:07<00:00, 191.96it/s]\n"
     ]
    }
   ],
   "source": [
    "train_doc=prepare_data(df, nlp)\n",
    "val_doc=prepare_data(dt, nlp)"
   ]
  },
  {
   "cell_type": "code",
   "execution_count": 25,
   "id": "dc7a8a00",
   "metadata": {},
   "outputs": [],
   "source": [
    "def train_model(dft, valdf, class_weights, n_iter=10):\n",
    "    nlp = spacy.blank(\"en\")\n",
    "    \n",
    "    config = {\n",
    "        \"threshold\": 0.5,\n",
    "        \"model\": {\n",
    "            \"@architectures\": \"spacy.TextCatEnsemble.v2\",\n",
    "            \"tok2vec\": {\n",
    "                \"@architectures\": \"spacy.Tok2Vec.v2\",\n",
    "                \"embed\": {\n",
    "                    \"@architectures\": \"spacy.MultiHashEmbed.v2\",\n",
    "                    \"width\": 64,\n",
    "                    \"rows\": [2000, 2000, 2000, 2000, 2000],\n",
    "                    \"attrs\": [\"ORTH\", \"LOWER\", \"PREFIX\", \"SUFFIX\", \"SHAPE\"],\n",
    "                    \"include_static_vectors\": False\n",
    "                },\n",
    "                \"encode\": {\n",
    "                    \"@architectures\": \"spacy.MaxoutWindowEncoder.v2\",\n",
    "                    \"width\": 64,\n",
    "                    \"window_size\": 1,\n",
    "                    \"maxout_pieces\": 3,\n",
    "                    \"depth\": 2\n",
    "                }\n",
    "            },\n",
    "            \"linear_model\": {\n",
    "                \"@architectures\": \"spacy.TextCatBOW.v3\",\n",
    "                \"exclusive_classes\": True,\n",
    "                \"length\": 262144,\n",
    "                \"ngram_size\": 1,\n",
    "                \"no_output_layer\": False\n",
    "            }\n",
    "        }\n",
    "    }\n",
    "    \n",
    "    textcat = nlp.add_pipe(\"textcat\", config=config)\n",
    "    \n",
    "    labels = [\"NO_FIT\", \"POTENTIAL_FIT\", \"GOOD_FIT\"]\n",
    "    for label in labels:\n",
    "        textcat.add_label(label)\n",
    "\n",
    "    train_docs = list(dft.get_docs(nlp.vocab))\n",
    "    val_docs = list(valdf.get_docs(nlp.vocab))\n",
    "    \n",
    "    train_examples = [Example.from_dict(nlp.make_doc(doc.text), {\"cats\": doc.cats}) \n",
    "                     for doc in train_docs]\n",
    "\n",
    "    textcat.initialize(lambda: train_examples, nlp=nlp)\n",
    "    \n",
    "    dropout = 0.2\n",
    "    batch_sizes = compounding(4.0, 32.0, 1.001)\n",
    "    \n",
    "    train_losses = []\n",
    "    val_metrics = {'accuracy': [], 'f1': {label: [] for label in labels}}\n",
    "\n",
    "    optimizer = nlp.resume_training()\n",
    "    for epoch in range(n_iter):\n",
    "        random.shuffle(train_examples)\n",
    "        losses = {}\n",
    "        \n",
    "        weighted_examples = []\n",
    "        for example in train_examples:\n",
    "            cats = example.reference.cats\n",
    "            dominant_label = max(cats.items(), key=lambda x: x[1])[0]\n",
    "            \n",
    "            label_index = {\"NO_FIT\": 0, \"POTENTIAL_FIT\": 1, \"GOOD_FIT\": 2}[dominant_label]\n",
    "            weight = class_weights[label_index]\n",
    "            weighted_examples.extend([example] * max(1, int(weight)))\n",
    "        \n",
    "        batches = minibatch(weighted_examples, size=batch_sizes)\n",
    "        for batch in batches:\n",
    "            nlp.update(batch, drop=dropout, losses=losses, sgd=optimizer)\n",
    "        \n",
    "        \n",
    "        train_loss = losses.get('textcat', 0.0)\n",
    "        train_losses.append(train_loss)\n",
    "        \n",
    "        correct = 0\n",
    "        total = len(val_docs)\n",
    "        f1_counts = {label: {'tp': 0, 'fp': 0, 'fn': 0} for label in labels}\n",
    "        \n",
    "        for val_doc in val_docs:\n",
    "            pred_doc = nlp(val_doc.text)\n",
    "            true_label = max(val_doc.cats.items(), key=lambda x: x[1])[0]\n",
    "            pred_label = max(pred_doc.cats.items(), key=lambda x: x[1])[0]\n",
    "            \n",
    "            correct += int(true_label == pred_label)\n",
    "            \n",
    "            for label in labels:\n",
    "                if true_label == label and pred_label == label:\n",
    "                    f1_counts[label]['tp'] += 1\n",
    "                elif pred_label == label:\n",
    "                    f1_counts[label]['fp'] += 1\n",
    "                elif true_label == label:\n",
    "                    f1_counts[label]['fn'] += 1\n",
    "        \n",
    "        val_accuracy = correct / total if total > 0 else 0\n",
    "        val_metrics['accuracy'].append(val_accuracy)\n",
    "        \n",
    "        epoch_f1 = {}\n",
    "        for label in labels:\n",
    "            tp = f1_counts[label]['tp']\n",
    "            fp = f1_counts[label]['fp']\n",
    "            fn = f1_counts[label]['fn']\n",
    "            \n",
    "            precision = tp / (tp + fp) if (tp + fp) > 0 else 0\n",
    "            recall = tp / (tp + fn) if (tp + fn) > 0 else 0\n",
    "            f1 = 2 * (precision * recall) / (precision + recall) if (precision + recall) > 0 else 0\n",
    "            \n",
    "            epoch_f1[label] = f1\n",
    "            val_metrics['f1'][label].append(f1)\n",
    "        \n",
    "        print(f\"\\nEpoch {epoch+1}/{n_iter}\")\n",
    "        print(f\"Train Loss: {train_loss:.4f}\")\n",
    "        print(f\"Val Accuracy: {val_accuracy:.4f}\")\n",
    "        print(\"F1 Scores:\")\n",
    "        for label in labels:\n",
    "            print(f\"  {label}: {epoch_f1[label]:.4f}\")\n",
    "    \n",
    "    plt.figure(figsize=(15, 5))\n",
    "    \n",
    "    plt.subplot(1, 3, 1)\n",
    "    plt.plot(train_losses)\n",
    "    plt.title('Training Loss')\n",
    "    plt.xlabel('Epoch')\n",
    "    \n",
    "    plt.subplot(1, 3, 2)\n",
    "    plt.plot(val_metrics['accuracy'])\n",
    "    plt.title('Validation Accuracy')\n",
    "    plt.xlabel('Epoch')\n",
    "    \n",
    "    plt.subplot(1, 3, 3)\n",
    "    for label in labels:\n",
    "        plt.plot(val_metrics['f1'][label], label=label)\n",
    "    plt.title('Validation F1 Scores')\n",
    "    plt.xlabel('Epoch')\n",
    "    plt.legend()\n",
    "    \n",
    "    plt.tight_layout()\n",
    "    plt.show()\n",
    "    \n",
    "    return nlp"
   ]
  },
  {
   "cell_type": "code",
   "execution_count": 26,
   "id": "e9a1848b",
   "metadata": {},
   "outputs": [
    {
     "name": "stdout",
     "output_type": "stream",
     "text": [
      "\n",
      "Epoch 1/20\n",
      "Train Loss: 175.9433\n",
      "Val Accuracy: 0.3528\n",
      "F1 Scores:\n",
      "  NO_FIT: 0.2229\n",
      "  POTENTIAL_FIT: 0.4980\n",
      "  GOOD_FIT: 0.1246\n",
      "\n",
      "Epoch 2/20\n",
      "Train Loss: 76.4407\n",
      "Val Accuracy: 0.3876\n",
      "F1 Scores:\n",
      "  NO_FIT: 0.3817\n",
      "  POTENTIAL_FIT: 0.4492\n",
      "  GOOD_FIT: 0.3171\n",
      "\n",
      "Epoch 3/20\n",
      "Train Loss: 47.7885\n",
      "Val Accuracy: 0.3905\n",
      "F1 Scores:\n",
      "  NO_FIT: 0.4626\n",
      "  POTENTIAL_FIT: 0.2000\n",
      "  GOOD_FIT: 0.4195\n",
      "\n",
      "Epoch 4/20\n",
      "Train Loss: 34.5210\n",
      "Val Accuracy: 0.4105\n",
      "F1 Scores:\n",
      "  NO_FIT: 0.4482\n",
      "  POTENTIAL_FIT: 0.3711\n",
      "  GOOD_FIT: 0.4050\n",
      "\n",
      "Epoch 5/20\n",
      "Train Loss: 26.5403\n",
      "Val Accuracy: 0.3905\n",
      "F1 Scores:\n",
      "  NO_FIT: 0.4368\n",
      "  POTENTIAL_FIT: 0.4231\n",
      "  GOOD_FIT: 0.2784\n",
      "\n",
      "Epoch 6/20\n",
      "Train Loss: 21.5894\n",
      "Val Accuracy: 0.3713\n",
      "F1 Scores:\n",
      "  NO_FIT: 0.4805\n",
      "  POTENTIAL_FIT: 0.3219\n",
      "  GOOD_FIT: 0.1834\n",
      "\n",
      "Epoch 7/20\n",
      "Train Loss: 19.5536\n",
      "Val Accuracy: 0.4216\n",
      "F1 Scores:\n",
      "  NO_FIT: 0.4684\n",
      "  POTENTIAL_FIT: 0.4198\n",
      "  GOOD_FIT: 0.3583\n",
      "\n",
      "Epoch 8/20\n",
      "Train Loss: 19.4211\n",
      "Val Accuracy: 0.4238\n",
      "F1 Scores:\n",
      "  NO_FIT: 0.4667\n",
      "  POTENTIAL_FIT: 0.3711\n",
      "  GOOD_FIT: 0.4239\n",
      "\n",
      "Epoch 9/20\n",
      "Train Loss: 18.5811\n",
      "Val Accuracy: 0.4586\n",
      "F1 Scores:\n",
      "  NO_FIT: 0.4934\n",
      "  POTENTIAL_FIT: 0.4056\n",
      "  GOOD_FIT: 0.4710\n",
      "\n",
      "Epoch 10/20\n",
      "Train Loss: 18.2372\n",
      "Val Accuracy: 0.4216\n",
      "F1 Scores:\n",
      "  NO_FIT: 0.4106\n",
      "  POTENTIAL_FIT: 0.4067\n",
      "  GOOD_FIT: 0.4461\n",
      "\n",
      "Epoch 11/20\n",
      "Train Loss: 17.6187\n",
      "Val Accuracy: 0.4482\n",
      "F1 Scores:\n",
      "  NO_FIT: 0.4682\n",
      "  POTENTIAL_FIT: 0.4460\n",
      "  GOOD_FIT: 0.4279\n",
      "\n",
      "Epoch 12/20\n",
      "Train Loss: 17.9229\n",
      "Val Accuracy: 0.4186\n",
      "F1 Scores:\n",
      "  NO_FIT: 0.4525\n",
      "  POTENTIAL_FIT: 0.4102\n",
      "  GOOD_FIT: 0.3834\n",
      "\n",
      "Epoch 13/20\n",
      "Train Loss: 17.2966\n",
      "Val Accuracy: 0.3868\n",
      "F1 Scores:\n",
      "  NO_FIT: 0.4461\n",
      "  POTENTIAL_FIT: 0.3875\n",
      "  GOOD_FIT: 0.3061\n",
      "\n",
      "Epoch 14/20\n",
      "Train Loss: 17.3194\n",
      "Val Accuracy: 0.4593\n",
      "F1 Scores:\n",
      "  NO_FIT: 0.5110\n",
      "  POTENTIAL_FIT: 0.4314\n",
      "  GOOD_FIT: 0.4307\n",
      "\n",
      "Epoch 15/20\n",
      "Train Loss: 17.0292\n",
      "Val Accuracy: 0.4312\n",
      "F1 Scores:\n",
      "  NO_FIT: 0.5032\n",
      "  POTENTIAL_FIT: 0.3470\n",
      "  GOOD_FIT: 0.3940\n",
      "\n",
      "Epoch 16/20\n",
      "Train Loss: 16.6137\n",
      "Val Accuracy: 0.4342\n",
      "F1 Scores:\n",
      "  NO_FIT: 0.4831\n",
      "  POTENTIAL_FIT: 0.3990\n",
      "  GOOD_FIT: 0.4087\n",
      "\n",
      "Epoch 17/20\n",
      "Train Loss: 16.1252\n",
      "Val Accuracy: 0.4216\n",
      "F1 Scores:\n",
      "  NO_FIT: 0.4691\n",
      "  POTENTIAL_FIT: 0.3967\n",
      "  GOOD_FIT: 0.3873\n",
      "\n",
      "Epoch 18/20\n",
      "Train Loss: 16.0506\n",
      "Val Accuracy: 0.4172\n",
      "F1 Scores:\n",
      "  NO_FIT: 0.4846\n",
      "  POTENTIAL_FIT: 0.3858\n",
      "  GOOD_FIT: 0.3588\n",
      "\n",
      "Epoch 19/20\n",
      "Train Loss: 15.5595\n",
      "Val Accuracy: 0.4283\n",
      "F1 Scores:\n",
      "  NO_FIT: 0.5210\n",
      "  POTENTIAL_FIT: 0.4185\n",
      "  GOOD_FIT: 0.2963\n",
      "\n",
      "Epoch 20/20\n",
      "Train Loss: 15.4019\n",
      "Val Accuracy: 0.4416\n",
      "F1 Scores:\n",
      "  NO_FIT: 0.5093\n",
      "  POTENTIAL_FIT: 0.4711\n",
      "  GOOD_FIT: 0.2937\n"
     ]
    },
    {
     "data": {
      "image/png": "[encoded data removed]",
      "text/plain": [
       "<Figure size 1500x500 with 3 Axes>"
      ]
     },
     "metadata": {},
     "output_type": "display_data"
    }
   ],
   "source": [
    "trained_model = train_model(train_doc, val_doc, class_weight_dict,20)"
   ]
  },
  {
   "cell_type": "code",
   "execution_count": 27,
   "id": "cd9eeb15",
   "metadata": {},
   "outputs": [],
   "source": [
    "def evaluation(model, test_df):\n",
    "    label_map = {\n",
    "        0: \"NO_FIT\",\n",
    "        1: \"POTENTIAL_FIT\",\n",
    "        2: \"GOOD_FIT\"\n",
    "    }\n",
    "    \n",
    "    y_true = [label_map[label] for label in test_df['label_num'].tolist()]\n",
    "    y_pred = []\n",
    "    \n",
    "    for text in tqdm(test_df['resume_job'], desc=\"Evaluating test set\"):\n",
    "        doc = model(text)\n",
    "        pred_label = max(doc.cats.items(), key=lambda x: x[1])[0]\n",
    "        y_pred.append(pred_label)\n",
    "    \n",
    "    accuracy = accuracy_score(y_true, y_pred)\n",
    "    report = classification_report(y_true, y_pred)\n",
    "    cm = confusion_matrix(\n",
    "        y_true, y_pred, \n",
    "        labels=[\"NO_FIT\", \"POTENTIAL_FIT\", \"GOOD_FIT\"]\n",
    "    )\n",
    "    \n",
    "    return {\n",
    "        \"accuracy\": accuracy,\n",
    "        \"report\": classification_report(y_true, y_pred, output_dict=True),\n",
    "        \"confusion_matrix\": cm\n",
    "    }"
   ]
  },
  {
   "cell_type": "code",
   "execution_count": 28,
   "id": "ba442e92",
   "metadata": {},
   "outputs": [
    {
     "name": "stderr",
     "output_type": "stream",
     "text": [
      "Evaluating test set: 100%|██████████| 1352/1352 [00:22<00:00, 60.67it/s]\n"
     ]
    }
   ],
   "source": [
    "res_eval=evaluation(trained_model, dt)"
   ]
  },
  {
   "cell_type": "code",
   "execution_count": 29,
   "id": "03e73b24",
   "metadata": {},
   "outputs": [
    {
     "name": "stdout",
     "output_type": "stream",
     "text": [
      "\n",
      "Test Set Evaluation:\n",
      "Accuracy: 0.4416\n",
      "\n",
      "Classification Report:\n",
      "{'GOOD_FIT': {'precision': 0.4484304932735426, 'recall': 0.2183406113537118, 'f1-score': 0.2936857562408223, 'support': 458.0}, 'NO_FIT': {'precision': 0.43890675241157556, 'recall': 0.6066666666666667, 'f1-score': 0.5093283582089553, 'support': 450.0}, 'POTENTIAL_FIT': {'precision': 0.4418145956607495, 'recall': 0.5045045045045045, 'f1-score': 0.47108307045215564, 'support': 444.0}, 'accuracy': 0.4415680473372781, 'macro avg': {'precision': 0.44305061378195587, 'recall': 0.443170594174961, 'f1-score': 0.4246990616339777, 'support': 1352.0}, 'weighted avg': {'precision': 0.4430879326759351, 'recall': 0.4415680473372781, 'f1-score': 0.42371798878186656, 'support': 1352.0}}\n"
     ]
    },
    {
     "data": {
      "image/png": "[encoded data removed]",
      "text/plain": [
       "<Figure size 1000x800 with 2 Axes>"
      ]
     },
     "metadata": {},
     "output_type": "display_data"
    }
   ],
   "source": [
    "print(\"\\nTest Set Evaluation:\")\n",
    "print(f\"Accuracy: {res_eval['accuracy']:.4f}\")\n",
    "print(\"\\nClassification Report:\")\n",
    "print(res_eval['report'])\n",
    "\n",
    "    \n",
    "plt.figure(figsize=(10, 8))\n",
    "cm_normalized = res_eval['confusion_matrix'].astype('float') / res_eval['confusion_matrix'].sum(axis=1)[:, np.newaxis]\n",
    "sns.heatmap(cm_normalized, annot=True, fmt='.2f', cmap='Blues', \n",
    "        xticklabels=[\"NO_FIT\", \"POTENTIAL_FIT\", \"GOOD_FIT\"], \n",
    "        yticklabels=[\"NO_FIT\", \"POTENTIAL_FIT\", \"GOOD_FIT\"])\n",
    "plt.xlabel('Predicted')\n",
    "plt.ylabel('True')\n",
    "plt.title('Normalized Confusion Matrix')\n",
    "plt.tight_layout()\n",
    "plt.show()"
   ]
  },
  {
   "cell_type": "code",
   "execution_count": 30,
   "id": "c2252154",
   "metadata": {},
   "outputs": [],
   "source": [
    "def prediction(nlp_model, resume_text, job_description_text):\n",
    "    combined_text = resume_text + \" [SEP] \" + job_description_text\n",
    "    doc = nlp_model(combined_text)\n",
    "\n",
    "    pred_label=max(doc.cats.items(), key=lambda x: x[1])[0]\n",
    "    label_map_inv = {\n",
    "        \"NO_FIT\": \"No Fit\",\n",
    "        \"POTENTIAL_FIT\": \"Potential Fit\",\n",
    "        \"GOOD_FIT\": \"Good Fit\"\n",
    "    }\n",
    "    return label_map_inv[pred_label], doc.cats"
   ]
  },
  {
   "cell_type": "code",
   "execution_count": 31,
   "id": "e38be1ad",
   "metadata": {},
   "outputs": [],
   "source": [
    "def predictor_for_lime(texts):\n",
    "    docs = [trained_model(text) for text in texts]\n",
    "    \n",
    "    labels = trained_model.get_pipe(\"textcat\").labels\n",
    "    \n",
    "    probas = []\n",
    "    for doc in docs:\n",
    "        scores = {label: doc.cats.get(label, 0.0) for label in labels}\n",
    "        total = sum(scores.values())\n",
    "        if total > 0:\n",
    "            normalized_scores = [scores[label] / total for label in labels]\n",
    "        else:\n",
    "            normalized_scores = [1.0 / len(labels)] * len(labels) \n",
    "        probas.append(normalized_scores)\n",
    "    return np.array(probas)"
   ]
  },
  {
   "cell_type": "code",
   "execution_count": 32,
   "id": "86d2a790",
   "metadata": {},
   "outputs": [
    {
     "name": "stdout",
     "output_type": "stream",
     "text": [
      "Predicted Label: Potential Fit, Probabilities: {'NO_FIT': 0.12606358528137207, 'POTENTIAL_FIT': 0.8713050484657288, 'GOOD_FIT': 0.0026314142160117626}\n",
      "\n",
      "Explanation for the sample:\n",
      "  personnel: 0.2246\n",
      "  office: 0.1426\n",
      "  Excel: 0.0642\n",
      "  Troubleshot: -0.0513\n",
      "  for: -0.0333\n",
      "  variety: 0.0316\n",
      "  you: 0.0273\n",
      "  prepares: 0.0091\n",
      "  prior: 0.0087\n",
      "  deadlines: 0.0059\n"
     ]
    }
   ],
   "source": [
    "class_names = [\"No Fit\", \"Potential Fit\", \"Good Fit\"]\n",
    "explainer = LimeTextExplainer(class_names=class_names)\n",
    "\n",
    "sample_idx = 1000  \n",
    "sample_resume = dt[\"resume_text\"].iloc[sample_idx]\n",
    "sample_job_desc = dt[\"job_description_text\"].iloc[sample_idx]\n",
    "sample_true_label = dt[\"label\"].iloc[sample_idx]\n",
    "\n",
    "predicted_label, probabilities = prediction(trained_model, sample_resume, sample_job_desc)\n",
    "print(f\"Predicted Label: {predicted_label}, Probabilities: {probabilities}\")\n",
    "\n",
    "explainer = LimeTextExplainer(class_names=class_names)\n",
    "\n",
    "sample_text = dt[\"resume_job\"].iloc[sample_idx]\n",
    "\n",
    "explanation = explainer.explain_instance(\n",
    "    sample_text, \n",
    "    predictor_for_lime, \n",
    "    num_features=10, \n",
    "    num_samples=500\n",
    ")\n",
    "\n",
    "print(\"\\nExplanation for the sample:\")\n",
    "for word, weight in explanation.as_list():\n",
    "    print(f\"  {word}: {weight:.4f}\")\n"
   ]
  },
  {
   "cell_type": "code",
   "execution_count": 33,
   "id": "7fa47712",
   "metadata": {},
   "outputs": [
    {
     "data": {
      "text/plain": [
       "'SummaryDetail-oriented human resources professional who excels under tight deadlines, while anticipating and averting potential problems by proactively streamlining processes.\\nSkillsPositive employee, Advanced Knowledge in all Microsoft office/Applications, CRM, HICS, and Softheon.\\nExperience10/2018toPresentCustomer Service Rep/Data Entry SpecialistCommunity Action Partnership Of San Luis Obispo County|Delano,CA,Provide assistance to members and/or providers regarding website registration and navigation Document all activities for quality and metrics reporting through the Customer Relationship Management (CRM) application Research and identify any processing inaccuracies in claim payments and route to the appropriate site operations team for claim adjustment Identify any trends related to incoming or outgoing calls that may provide policy or process improvements to support excellent customer service, quality improvement and call reduction Document all activities for quality and metrics reporting through the Customer Relationship Management (CRM) application Updated activities in CRM, including HICS from CMS according to the turnaround times prepare, compile and sort documents for data entry check source documents for accuracy store completed documents in designated locations enter data from source documents into prescribed computer database, files and forms Troubleshot issues members may have with enrollment, eligibility, and reinstatement with their healthcare insurances.Update information with members healthcare insurance and contact other medical company for prior authorizations as needed.Input Merchant Capture Set-up for various Banks Deposit Gateway Provide effective account maintenances upon client request Correspond with internal and external clients/customers via telephone and email Complete reports/spreadsheets as assigned in a timely manner Meet numerous projects deadlines Work effectively as a team member.06/2018to04/2018Program Eligibility SpecialistViejas Enterprises|Alpine,CA,Reviews referrals for services and interviews applicants and/or family members to explain eligibility requirements, form completion requirement, and community resources.Requests information to determine/established procedures.May serve as a liaison to other divisions and agencies to develop policies and procedures for community-based programs.06/2018to06/2018Merchant Capture AdministratorFIS/Metavante Corporation|City,STATE,Input Merchant Capture Set-up for various Banks Deposit Gateway Provide effective account maintenances upon client request Correspond with internal and external clients/customers via telephone and email Complete reports/spreadsheets as assigned in a timely manner Meet numerous projects deadlines Work effectively as a team member.10/2018to04/2018Human Resource Administration AssistantSpherion Staffing APS Healthcare|City,STATE,Providing Administrative Assistant to the Human Resources department at APS.Administer references checks, employment and degree verification, and testing for all prospective candidates, process background pre-employment checks.Maintain an Applicant tracking log system of all candidates.Assisted in employment operations by processing all open positions Updated and revised job descriptions Assisted in creating and running reports to obtain data in the HR Dept.Handled front office operations in the HR Dept.Prepared monthly termination report for corporate use Assisted in recruitment activities by posting job openings at appropriate external organizations, such as technical schools, professional organizations, internet sites, etc.Developed numerous spreadsheets and reports which obtain HR data.Detail-oriented and have strong computer skills in Word and Excel.Assignment Ended).06/2018to02/2018Employment CoordinatorRandstad Staffing Inc Milwaukee Journal Sentinel|City,STATE,Primary responsibilities is greeting job candidates, administers testing, processes personnel paperwork, enters payroll information in computerized system, performs pre-employment/post-offer reference checks, assists employees and external customers with questions, and handles a variety of other human resource functions and provide excellent customer service skills.Assisted in employment operations by processing all open position requests, posting full and part-time job postings on company bulletin boards as required and distributing postings using Journal Communications format, generates open position log.Responsible for new-hire processing, to includes preparation of status advice, pre-employment paperwork; assists HR Information Coordinator with entering employee data into the payroll system; prepares folders with information for new employee orientation and put together interview packets and maintain personnel forms.handled front office operations for Human Resources; assists employees with questions and provides quick resolutions; maintain personnel files including creating new hire folders, updating and removing files and filing employee information into their files.Administered reference checks, employment and degree verification, and testing for all prospective candidates, runs driver and background pre-employment checks, schedules pre-employment drug screens; maintains a log all pre-employment, random and post-accident screen results.\\nEducation and TrainingExpected in6/97totoBachelor of Science|PsychologyUniversity of Arkansas at Monticello,Monticello,ArkansasGPA:Psychology\\nSkillsfiling, front office, develop policies, spreadsheets'"
      ]
     },
     "execution_count": 33,
     "metadata": {},
     "output_type": "execute_result"
    }
   ],
   "source": [
    "dt[\"resume_text\"].iloc[1000]"
   ]
  },
  {
   "cell_type": "code",
   "execution_count": 34,
   "id": "7125eafd",
   "metadata": {},
   "outputs": [
    {
     "data": {
      "text/plain": [
       "'Who we are?For the past 20 years, we have powered many Digital Experiences for the Fortune 500. Since 1999, we have grown from a few people to more than 4000 team members across the globe that are engaged in various Digital Modernization. For a brief 1 minute video about us, you can check https:youtu.beuJWBWQZEA6o.Responsibilities:Evaluating business processes, anticipating requirements, uncovering areas for improvement, and developing and implementing solutions.Leading ongoing reviews of business processes and developing optimization strategies.Staying up-to-date on the latest process and IT advancements to automate and modernize systems.Conducting meetings and presentations to share ideas and findings.Performing requirements analysis.Documenting and communicating the results of your efforts.Effectively communicating your insights and plans to cross-functional team members and management.Gathering critical information from meetings with various stakeholders and producing useful reports.Working closely with clients, technicians, and managerial staff.Providing leadership, training, coaching, and guidance to junior staff.Allocating resources and maintaining cost efficiency.Ensuring solutions meet business needs and requirements.Performing user acceptance testing.Managing projects, developing project plans, and monitoring performance.Updating, implementing, and maintaining procedures.Prioritizing initiatives based on business needs and requirements.Serving as a liaison between stakeholders and users.Managing competing resources and priorities.Monitoring deliverables and ensuring timely completion of projects.Requirements:A bachelors degree in ITComputer Science or related field or an MBA.10+ years of experience in business analysis or a related field.Exceptional analytical and conceptual thinking skills.The ability to influence stakeholders and work closely with them to determine acceptable solutions.Advanced technical skills.Excellent documentation skills.Fundamental analytical and conceptual thinking skills.Experience creating detailed reports and giving presentations.Competency in Microsoft applications including Word, Excel, and Outlook.A track record of following through on commitments.Excellent planning, organizational, and time management skills.Experience leading and developing top-performing teams.A history of leading and supporting successful projects.'"
      ]
     },
     "execution_count": 34,
     "metadata": {},
     "output_type": "execute_result"
    }
   ],
   "source": [
    "dt[\"job_description_text\"].iloc[1000]"
   ]
  },
  {
   "cell_type": "code",
   "execution_count": 35,
   "id": "3ca66619",
   "metadata": {},
   "outputs": [],
   "source": [
    "output_dir = \"processed_resumes\"\n",
    "trained_model.to_disk(output_dir)"
   ]
  },
  {
   "cell_type": "code",
   "execution_count": null,
   "id": "6f4792bc",
   "metadata": {},
   "outputs": [],
   "source": []
  }
 ],
 "metadata": {
  "kernelspec": {
   "display_name": "Python 3",
   "language": "python",
   "name": "python3"
  },
  "language_info": {
   "codemirror_mode": {
    "name": "ipython",
    "version": 3
   },
   "file_extension": ".py",
   "mimetype": "text/x-python",
   "name": "python",
   "nbconvert_exporter": "python",
   "pygments_lexer": "ipython3",
   "version": "3.10.5"
  }
 },
 "nbformat": 4,
 "nbformat_minor": 5
}
